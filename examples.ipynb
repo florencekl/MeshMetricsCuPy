{
 "cells": [
  {
   "cell_type": "code",
   "execution_count": null,
   "metadata": {},
   "outputs": [],
   "source": [
    "from pathlib import Path\n",
    "import SimpleITK as sitk\n",
    "from MeshMetrics.utils import create_synthetic_examples_2d, create_synthetic_examples_3d, vtk_write_polydata, sitk2np, vtk_read_polydata\n",
    "from MeshMetrics import DistanceMetrics\n",
    "\n",
    "# simple funciton to print results\n",
    "def print_metrics(hd100, hd95, masd, assd, nsd2, biou2):\n",
    "    print(f\"HD100: {hd100:.2f} mm, HD (perc=95): {hd95:.2f} mm, MASD: {masd:.2f} mm, ASSD: {assd:.2f} mm, NSD (tau=2): {nsd2*100:.2f} %, BIoU (tau=2): {biou2*100:.2f} %\")"
   ]
  },
  {
   "cell_type": "code",
   "execution_count": null,
   "metadata": {},
   "outputs": [
    {
     "name": "stderr",
     "output_type": "stream",
     "text": [
      "\u001b[0m\u001b[2m2024-11-21 08:22:48.804 (   0.175s) [    7F4CBE6C1080]vtkPolyDataPlaneCutter.:589   INFO| \u001b[0mExecuting vtkPolyData plane cutter\u001b[0m\n",
      "\u001b[0m\u001b[2m2024-11-21 08:22:48.804 (   0.176s) [    7F4CBE6C1080]vtkPolyDataPlaneCutter.:589   INFO| \u001b[0mExecuting vtkPolyData plane cutter\u001b[0m\n"
     ]
    }
   ],
   "source": [
    "# Create synthetic examples (a few are already provided in the examples folder)\n",
    "create_data = True\n",
    "data_dir = Path('data')\n",
    "\n",
    "if create_data:\n",
    "    # 2D: Create synthetic circles with predefined radii\n",
    "    ref_mesh, pred_mesh, ref_mask_sitk, pred_mask_sitk = create_synthetic_examples_2d(r1=34, r2=35.5, spacing=(0.2, 0.2))\n",
    "    data_dir.mkdir(exist_ok=True)\n",
    "    vtk_write_polydata(ref_mesh, data_dir / \"example_2d_ref_mesh.obj\")\n",
    "    vtk_write_polydata(pred_mesh, data_dir / \"example_2d_pred_mesh.obj\")\n",
    "    sitk.WriteImage(ref_mask_sitk, data_dir / \"example_2d_ref_mask.nii.gz\")\n",
    "    sitk.WriteImage(pred_mask_sitk, data_dir / \"example_2d_pred_mask.nii.gz\")\n",
    "    \n",
    "    # 3D: Create synthetic spheres with predefined radii\n",
    "    ref_mesh, pred_mesh, ref_mask_sitk, pred_mask_sitk = create_synthetic_examples_3d(r1=34, r2=35.5, spacing=(1.0, 1.0, 1.0))\n",
    "    data_dir.mkdir(exist_ok=True)\n",
    "    vtk_write_polydata(ref_mesh, data_dir / \"example_3d_ref_mesh.obj\")\n",
    "    vtk_write_polydata(pred_mesh, data_dir / \"example_3d_pred_mesh.obj\")\n",
    "    sitk.WriteImage(ref_mask_sitk, data_dir / \"example_3d_ref_mask.nii.gz\")\n",
    "    sitk.WriteImage(pred_mask_sitk, data_dir / \"example_3d_pred_mask.nii.gz\")"
   ]
  },
  {
   "cell_type": "markdown",
   "metadata": {},
   "source": [
    "# 3D examples"
   ]
  },
  {
   "cell_type": "markdown",
   "metadata": {},
   "source": [
    "## Calculate metrics using `SimpleITK.Image` masks"
   ]
  },
  {
   "cell_type": "code",
   "execution_count": null,
   "metadata": {},
   "outputs": [
    {
     "data": {
      "text/plain": [
       "((81, 81, 81), (1.0, 1.0, 1.0))"
      ]
     },
     "execution_count": 3,
     "metadata": {},
     "output_type": "execute_result"
    }
   ],
   "source": [
    "ref_mask_sitk = sitk.ReadImage(data_dir / \"example_3d_ref_mask.nii.gz\")\n",
    "pred_mask_sitk = sitk.ReadImage(data_dir / \"example_3d_pred_mask.nii.gz\")\n",
    "# print some metadata\n",
    "ref_mask_sitk.GetSize(), ref_mask_sitk.GetSpacing()"
   ]
  },
  {
   "cell_type": "code",
   "execution_count": 4,
   "metadata": {},
   "outputs": [
    {
     "name": "stdout",
     "output_type": "stream",
     "text": [
      "HD100: 2.12 mm, HD (perc=95): 1.83 mm, MASD: 1.38 mm, ASSD: 1.38 mm, NSD (tau=2): 99.73 %, BIoU (tau=2): 34.34 %\n"
     ]
    }
   ],
   "source": [
    "# Calculate metrics using SimpleITK masks\n",
    "dist_metrics = DistanceMetrics()\n",
    "# note that spacing is automatically inferred from the sitk.Image object\n",
    "dist_metrics.set_input(ref=ref_mask_sitk, pred=pred_mask_sitk)\n",
    "\n",
    "# Hausdorff Distance (HD), by default, HD percentile is set to 100 (equivalent to HD)\n",
    "hd100 = dist_metrics.hd()\n",
    "# 95th percentile HD\n",
    "hd95 = dist_metrics.hd(percentile=95)\n",
    "# Mean Average Surface Distance (MASD)\n",
    "masd = dist_metrics.masd()\n",
    "# Average Symmetric Surface Distance (ASSD)\n",
    "assd = dist_metrics.assd()\n",
    "# Normalized Surface Distance (NSD) with tau=2\n",
    "nsd2 = dist_metrics.nsd(tau=2)\n",
    "# Boundary Intersection over Union (BIoU) with tau=2\n",
    "biou2 = dist_metrics.biou(tau=2)\n",
    "\n",
    "print_metrics(hd100, hd95, masd, assd, nsd2, biou2)"
   ]
  },
  {
   "cell_type": "markdown",
   "metadata": {},
   "source": [
    "## Calculate metrics using `numpy.ndarray` masks"
   ]
  },
  {
   "cell_type": "code",
   "execution_count": 5,
   "metadata": {},
   "outputs": [
    {
     "data": {
      "text/plain": [
       "((81, 81, 81), (81, 81, 81), (1.0, 1.0, 1.0))"
      ]
     },
     "execution_count": 5,
     "metadata": {},
     "output_type": "execute_result"
    }
   ],
   "source": [
    "# convert sitk to numpy\n",
    "spacing = ref_mask_sitk.GetSpacing()\n",
    "ref_mask_np = sitk2np(ref_mask_sitk) > 0\n",
    "pred_mask_np = sitk2np(pred_mask_sitk) > 0\n",
    "# check masks size and spacing\n",
    "ref_mask_np.shape, pred_mask_np.shape, spacing"
   ]
  },
  {
   "cell_type": "code",
   "execution_count": 6,
   "metadata": {},
   "outputs": [
    {
     "name": "stdout",
     "output_type": "stream",
     "text": [
      "HD100: 2.12 mm, HD (perc=95): 1.83 mm, MASD: 1.38 mm, ASSD: 1.38 mm, NSD (tau=2): 99.50 %, BIoU (tau=2): 34.34 %\n"
     ]
    }
   ],
   "source": [
    "# Calculate metrics using SimpleITK masks\n",
    "dist_metrics = DistanceMetrics()\n",
    "# note that spacing is automatically inferred from the sitk.Image object\n",
    "dist_metrics.set_input(ref=ref_mask_np, pred=pred_mask_np, spacing=spacing)\n",
    "\n",
    "# Hausdorff Distance (HD), by default, HD percentile is set to 100 (equivalent to HD)\n",
    "hd100 = dist_metrics.hd()\n",
    "# 95th percentile HD\n",
    "hd95 = dist_metrics.hd(percentile=95)\n",
    "# Mean Average Surface Distance (MASD)\n",
    "masd = dist_metrics.masd()\n",
    "# Average Symmetric Surface Distance (ASSD)\n",
    "assd = dist_metrics.assd()\n",
    "# Normalized Surface Distance (NSD) with tau=2\n",
    "nsd2 = dist_metrics.nsd(tau=2)\n",
    "# Boundary Intersection over Union (BIoU) with tau=2\n",
    "biou2 = dist_metrics.biou(tau=2)\n",
    "\n",
    "print_metrics(hd100, hd95, masd, assd, nsd2, biou2)"
   ]
  },
  {
   "cell_type": "markdown",
   "metadata": {},
   "source": [
    "## Calculate metrics using `vtk` meshes"
   ]
  },
  {
   "cell_type": "code",
   "execution_count": null,
   "metadata": {},
   "outputs": [],
   "source": [
    "# load meshes\n",
    "ref_mesh = vtk_read_polydata(data_dir / \"example_3d_ref_mesh.obj\")\n",
    "pred_mesh = vtk_read_polydata(data_dir / \"example_3d_pred_mesh.obj\")\n",
    "# set spacing to arbitrary value (this is only needed for BIoU calculation, the low the better, but it prolongs the computation)\n",
    "spacing = (0.5, 0.5, 0.5)"
   ]
  },
  {
   "cell_type": "code",
   "execution_count": 8,
   "metadata": {},
   "outputs": [
    {
     "name": "stdout",
     "output_type": "stream",
     "text": [
      "HD100: 1.50 mm, HD (perc=95): 1.50 mm, MASD: 1.50 mm, ASSD: 1.50 mm, NSD (tau=2): 100.00 %, BIoU (tau=2): 26.23 %\n"
     ]
    }
   ],
   "source": [
    "# Calculate metrics using SimpleITK masks\n",
    "dist_metrics = DistanceMetrics()\n",
    "# note that spacing is automatically inferred from the sitk.Image object\n",
    "dist_metrics.set_input(ref=ref_mesh, pred=pred_mesh, spacing=spacing)\n",
    "\n",
    "# Hausdorff Distance (HD), by default, HD percentile is set to 100 (equivalent to HD)\n",
    "hd100 = dist_metrics.hd()\n",
    "# 95th percentile HD\n",
    "hd95 = dist_metrics.hd(percentile=95)\n",
    "# Mean Average Surface Distance (MASD)\n",
    "masd = dist_metrics.masd()\n",
    "# Average Symmetric Surface Distance (ASSD)\n",
    "assd = dist_metrics.assd()\n",
    "# Normalized Surface Distance (NSD) with tau=2\n",
    "nsd2 = dist_metrics.nsd(tau=2)\n",
    "# Boundary Intersection over Union (BIoU) with tau=2\n",
    "biou2 = dist_metrics.biou(tau=2)\n",
    "\n",
    "print_metrics(hd100, hd95, masd, assd, nsd2, biou2)"
   ]
  },
  {
   "cell_type": "markdown",
   "metadata": {},
   "source": [
    "# 2D examples"
   ]
  },
  {
   "cell_type": "markdown",
   "metadata": {},
   "source": [
    "## Calculate metrics using `SimpleITK.Image` masks"
   ]
  },
  {
   "cell_type": "code",
   "execution_count": null,
   "metadata": {},
   "outputs": [
    {
     "data": {
      "text/plain": [
       "((365, 365), (0.20000000298023224, 0.20000000298023224))"
      ]
     },
     "execution_count": 9,
     "metadata": {},
     "output_type": "execute_result"
    }
   ],
   "source": [
    "ref_mask_sitk = sitk.ReadImage(data_dir / \"example_2d_ref_mask.nii.gz\")\n",
    "pred_mask_sitk = sitk.ReadImage(data_dir / \"example_2d_pred_mask.nii.gz\")\n",
    "# print some metadata\n",
    "ref_mask_sitk.GetSize(), ref_mask_sitk.GetSpacing()"
   ]
  },
  {
   "cell_type": "code",
   "execution_count": 10,
   "metadata": {},
   "outputs": [
    {
     "name": "stdout",
     "output_type": "stream",
     "text": [
      "HD100: 1.60 mm, HD (perc=95): 1.57 mm, MASD: 1.46 mm, ASSD: 1.46 mm, NSD (tau=2): 100.00 %, BIoU (tau=2): 19.01 %\n"
     ]
    }
   ],
   "source": [
    "# Calculate metrics using SimpleITK masks\n",
    "dist_metrics = DistanceMetrics()\n",
    "# note that spacing is automatically inferred from the sitk.Image object\n",
    "dist_metrics.set_input(ref=ref_mask_sitk, pred=pred_mask_sitk)\n",
    "\n",
    "# Hausdorff Distance (HD), by default, HD percentile is set to 100 (equivalent to HD)\n",
    "hd100 = dist_metrics.hd()\n",
    "# 95th percentile HD\n",
    "hd95 = dist_metrics.hd(percentile=95)\n",
    "# Mean Average Surface Distance (MASD)\n",
    "masd = dist_metrics.masd()\n",
    "# Average Symmetric Surface Distance (ASSD)\n",
    "assd = dist_metrics.assd()\n",
    "# Normalized Surface Distance (NSD) with tau=2\n",
    "nsd2 = dist_metrics.nsd(tau=2)\n",
    "# Boundary Intersection over Union (BIoU) with tau=2\n",
    "biou2 = dist_metrics.biou(tau=2)\n",
    "\n",
    "print_metrics(hd100, hd95, masd, assd, nsd2, biou2)"
   ]
  },
  {
   "cell_type": "markdown",
   "metadata": {},
   "source": [
    "## Calculate metrics using `numpy.ndarray` masks"
   ]
  },
  {
   "cell_type": "code",
   "execution_count": 11,
   "metadata": {},
   "outputs": [
    {
     "data": {
      "text/plain": [
       "((365, 365), (365, 365), (0.20000000298023224, 0.20000000298023224))"
      ]
     },
     "execution_count": 11,
     "metadata": {},
     "output_type": "execute_result"
    }
   ],
   "source": [
    "# convert sitk to numpy\n",
    "spacing = ref_mask_sitk.GetSpacing()\n",
    "ref_mask_np = sitk2np(ref_mask_sitk) > 0\n",
    "pred_mask_np = sitk2np(pred_mask_sitk) > 0\n",
    "# check masks size and spacing\n",
    "ref_mask_np.shape, pred_mask_np.shape, spacing"
   ]
  },
  {
   "cell_type": "code",
   "execution_count": 12,
   "metadata": {},
   "outputs": [
    {
     "name": "stdout",
     "output_type": "stream",
     "text": [
      "HD100: 1.60 mm, HD (perc=95): 1.57 mm, MASD: 1.46 mm, ASSD: 1.46 mm, NSD (tau=2): 100.00 %, BIoU (tau=2): 19.01 %\n"
     ]
    }
   ],
   "source": [
    "# Calculate metrics using SimpleITK masks\n",
    "dist_metrics = DistanceMetrics()\n",
    "# note that spacing is automatically inferred from the sitk.Image object\n",
    "dist_metrics.set_input(ref=ref_mask_np, pred=pred_mask_np, spacing=spacing)\n",
    "\n",
    "# Hausdorff Distance (HD), by default, HD percentile is set to 100 (equivalent to HD)\n",
    "hd100 = dist_metrics.hd()\n",
    "# 95th percentile HD\n",
    "hd95 = dist_metrics.hd(percentile=95)\n",
    "# Mean Average Surface Distance (MASD)\n",
    "masd = dist_metrics.masd()\n",
    "# Average Symmetric Surface Distance (ASSD)\n",
    "assd = dist_metrics.assd()\n",
    "# Normalized Surface Distance (NSD) with tau=2\n",
    "nsd2 = dist_metrics.nsd(tau=2)\n",
    "# Boundary Intersection over Union (BIoU) with tau=2\n",
    "biou2 = dist_metrics.biou(tau=2)\n",
    "\n",
    "print_metrics(hd100, hd95, masd, assd, nsd2, biou2)"
   ]
  },
  {
   "cell_type": "markdown",
   "metadata": {},
   "source": [
    "## Calculate metrics using `vtk` meshes"
   ]
  },
  {
   "cell_type": "code",
   "execution_count": null,
   "metadata": {},
   "outputs": [],
   "source": [
    "# load meshes\n",
    "ref_mesh = vtk_read_polydata(data_dir / \"example_2d_ref_mesh.obj\")\n",
    "pred_mesh = vtk_read_polydata(data_dir / \"example_2d_pred_mesh.obj\")\n",
    "# set spacing to arbitrary value (this is only needed for BIoU calculation, the low the better, but it prolongs the computation)\n",
    "spacing = (0.1, 0.1)"
   ]
  },
  {
   "cell_type": "code",
   "execution_count": 20,
   "metadata": {},
   "outputs": [
    {
     "name": "stdout",
     "output_type": "stream",
     "text": [
      "HD100: 1.50 mm, HD (perc=95): 1.50 mm, MASD: 1.50 mm, ASSD: 1.50 mm, NSD (tau=2): 100.00 %, BIoU (tau=2): 16.86 %\n"
     ]
    }
   ],
   "source": [
    "# Calculate metrics using SimpleITK masks\n",
    "dist_metrics = DistanceMetrics()\n",
    "# note that spacing is automatically inferred from the sitk.Image object\n",
    "dist_metrics.set_input(ref=ref_mesh, pred=pred_mesh, spacing=spacing)\n",
    "\n",
    "# Hausdorff Distance (HD), by default, HD percentile is set to 100 (equivalent to HD)\n",
    "hd100 = dist_metrics.hd()\n",
    "# 95th percentile HD\n",
    "hd95 = dist_metrics.hd(percentile=95)\n",
    "# Mean Average Surface Distance (MASD)\n",
    "masd = dist_metrics.masd()\n",
    "# Average Symmetric Surface Distance (ASSD)\n",
    "assd = dist_metrics.assd()\n",
    "# Normalized Surface Distance (NSD) with tau=2\n",
    "nsd2 = dist_metrics.nsd(tau=2)\n",
    "# Boundary Intersection over Union (BIoU) with tau=2\n",
    "biou2 = dist_metrics.biou(tau=2)\n",
    "\n",
    "print_metrics(hd100, hd95, masd, assd, nsd2, biou2)"
   ]
  },
  {
   "cell_type": "code",
   "execution_count": null,
   "metadata": {},
   "outputs": [],
   "source": []
  }
 ],
 "metadata": {
  "kernelspec": {
   "display_name": "Python 3",
   "language": "python",
   "name": "python3"
  },
  "language_info": {
   "codemirror_mode": {
    "name": "ipython",
    "version": 3
   },
   "file_extension": ".py",
   "mimetype": "text/x-python",
   "name": "python",
   "nbconvert_exporter": "python",
   "pygments_lexer": "ipython3",
   "version": "3.12.3"
  }
 },
 "nbformat": 4,
 "nbformat_minor": 2
}
